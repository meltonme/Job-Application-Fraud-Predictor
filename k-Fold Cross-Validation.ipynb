{
 "cells": [
  {
   "cell_type": "code",
   "execution_count": 2,
   "id": "74a26515-fbc5-4126-bede-de51575b7d9d",
   "metadata": {},
   "outputs": [],
   "source": [
    "# Install dependencies\n",
    "import pandas as pd\n",
    "import scipy.sparse as sp\n",
    "from sklearn.ensemble import RandomForestClassifier\n",
    "from sklearn.model_selection import train_test_split, RandomizedSearchCV, cross_val_score\n",
    "from sklearn.metrics import classification_report, accuracy_score\n",
    "from imblearn.over_sampling import SMOTE\n",
    "import numpy as np"
   ]
  },
  {
   "cell_type": "code",
   "execution_count": 3,
   "id": "24899028-4bae-4b2d-b325-7b96204c0d98",
   "metadata": {},
   "outputs": [
    {
     "name": "stdout",
     "output_type": "stream",
     "text": [
      "TF-IDF matrix loaded successfully.\n"
     ]
    }
   ],
   "source": [
    "# Load the TF-IDF matrix from CSV\n",
    "try:\n",
    "    tfidf_matrix = pd.read_csv('tfidf_matrix.csv')  # Replace with your actual TF-IDF matrix file name\n",
    "    print(\"TF-IDF matrix loaded successfully.\")\n",
    "except FileNotFoundError:\n",
    "    print(\"Error: The TF-IDF matrix file was not found.\")\n",
    "    exit()"
   ]
  },
  {
   "cell_type": "code",
   "execution_count": 4,
   "id": "cb8e0974-c01d-4af9-a992-887a6d7e9443",
   "metadata": {},
   "outputs": [],
   "source": [
    "# Convert the DataFrame to a sparse matrix\n",
    "X_tfidf = sp.csr_matrix(tfidf_matrix.values)\n"
   ]
  },
  {
   "cell_type": "code",
   "execution_count": 5,
   "id": "3aff06c5-0bd7-4be2-923e-db3aff26690e",
   "metadata": {},
   "outputs": [
    {
     "name": "stdout",
     "output_type": "stream",
     "text": [
      "Data loaded successfully.\n"
     ]
    }
   ],
   "source": [
    "\n",
    "# Load the dataset that contains the target variable\n",
    "try:\n",
    "    data = pd.read_csv('fake_job_postings.csv')  # Replace with your actual file name\n",
    "    print(\"Data loaded successfully.\")\n",
    "except FileNotFoundError:\n",
    "    print(\"Error: The data file was not found.\")\n",
    "    exit()"
   ]
  },
  {
   "cell_type": "code",
   "execution_count": 6,
   "id": "5946f308-853e-4dbd-a6d9-55977e526248",
   "metadata": {},
   "outputs": [],
   "source": [
    "# Define target variable (y)\n",
    "y = data['fraudulent']"
   ]
  },
  {
   "cell_type": "code",
   "execution_count": 7,
   "id": "c14ef8d2-3dc2-4e48-81fa-30fea9ae959c",
   "metadata": {},
   "outputs": [],
   "source": [
    "# Use SMOTE for resampling the training data\n",
    "smote = SMOTE(random_state=42)\n",
    "X_resampled, y_resampled = smote.fit_resample(X_tfidf, y)\n"
   ]
  },
  {
   "cell_type": "code",
   "execution_count": 8,
   "id": "5ca3c975-fbf9-40a7-9e79-5d7ab623be24",
   "metadata": {},
   "outputs": [],
   "source": [
    "# Initialize the Random Forest model\n",
    "rf_model = RandomForestClassifier(random_state=42)\n"
   ]
  },
  {
   "cell_type": "code",
   "execution_count": 9,
   "id": "7b0d4c97-737e-4be5-bfe2-9f35f8cfd036",
   "metadata": {},
   "outputs": [],
   "source": [
    "# Perform k-fold cross-validation\n",
    "k = 5  # You can change this value\n",
    "cv_scores = cross_val_score(rf_model, X_resampled, y_resampled, cv=k, scoring='f1_weighted')\n"
   ]
  },
  {
   "cell_type": "code",
   "execution_count": 10,
   "id": "4d3c9308-724a-43e9-ba19-270f806ec297",
   "metadata": {},
   "outputs": [
    {
     "name": "stdout",
     "output_type": "stream",
     "text": [
      "Cross-Validation Scores (F1 Weighted): [0.9960329  0.99691446 0.99853071 0.99823659 0.99632621]\n",
      "Mean CV F1 Score: 0.9972081723641137\n"
     ]
    }
   ],
   "source": [
    "# Output the cross-validation results\n",
    "print(f\"Cross-Validation Scores (F1 Weighted): {cv_scores}\")\n",
    "print(f\"Mean CV F1 Score: {np.mean(cv_scores)}\")"
   ]
  },
  {
   "cell_type": "code",
   "execution_count": null,
   "id": "d150683e-0cb8-48db-a27d-401edf9dc007",
   "metadata": {},
   "outputs": [],
   "source": []
  }
 ],
 "metadata": {
  "kernelspec": {
   "display_name": "Python 3 (ipykernel)",
   "language": "python",
   "name": "python3"
  },
  "language_info": {
   "codemirror_mode": {
    "name": "ipython",
    "version": 3
   },
   "file_extension": ".py",
   "mimetype": "text/x-python",
   "name": "python",
   "nbconvert_exporter": "python",
   "pygments_lexer": "ipython3",
   "version": "3.10.14"
  }
 },
 "nbformat": 4,
 "nbformat_minor": 5
}
